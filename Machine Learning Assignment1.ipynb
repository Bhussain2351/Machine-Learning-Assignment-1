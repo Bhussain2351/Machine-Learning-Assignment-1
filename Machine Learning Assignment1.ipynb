{
 "cells": [
  {
   "cell_type": "code",
   "execution_count": 1,
   "id": "db5f0c03-9b24-496a-82ad-79cbdb813084",
   "metadata": {},
   "outputs": [],
   "source": [
    "# 1 Ans. Artificial Intelligence is a tool which csn perform its own task without human interference\n",
    "#        Machine Learning is a subset of AI, it provides recommendation base on trend, user past choice\n",
    "#        Deep Learning provides machine memic of human brain\n",
    "       "
   ]
  },
  {
   "cell_type": "code",
   "execution_count": 2,
   "id": "0f729fb1-d1c7-4217-b8a2-5e061f58a828",
   "metadata": {},
   "outputs": [],
   "source": [
    "# 2 Ans. Supervised learning where the output is known and it is dependable on two or more feature.\n",
    "#        Exmaple if a student gets below 50% he is consider Fail otherwise Pass"
   ]
  },
  {
   "cell_type": "code",
   "execution_count": 3,
   "id": "32d182c1-8d0d-4a84-94b6-3d6e9d5c16f5",
   "metadata": {},
   "outputs": [],
   "source": [
    "# 3 Ans. Unsupervised learning where the output is known .\n",
    "#         Example Size of Room , location of room and price of room depends on 1st two condition."
   ]
  },
  {
   "cell_type": "code",
   "execution_count": 4,
   "id": "7fc8b94b-0926-481f-a523-7d077226bcb0",
   "metadata": {},
   "outputs": [],
   "source": [
    "# 4 Ans. In summary, AI is the broader field of developing intelligent machines, ML is a subset of AI \n",
    "# that involves training algorithms to learn from data, DL is a subset of ML that uses \n",
    "# ANNs to model complex patterns in data, and DS is an interdisciplinary\n",
    "# field that involves extracting insights from data."
   ]
  },
  {
   "cell_type": "code",
   "execution_count": 5,
   "id": "b2ae149b-4c5a-4d73-8ed0-8a740deb56e7",
   "metadata": {},
   "outputs": [],
   "source": [
    "# 5 Ans. upervised learning models consume data that has been prelabeled by humans.\n",
    "# Unsupervised learning models discover patterns in data that hasn't been previously labeled. \n",
    "# Semi-supervised learning models involve an iterative process that works with both labeled and unlabeled data"
   ]
  },
  {
   "cell_type": "code",
   "execution_count": 6,
   "id": "5b898753-f134-4365-bf1c-e021707b6c3d",
   "metadata": {},
   "outputs": [],
   "source": [
    "# 6 Ans. Data splitting divides a dataset into three main subsets: the training set, \n",
    "#    used to train the model; the validation set, used to track model parameters and avoid overfitting; \n",
    "#     and the testing set, used for checking the model's performance on new data"
   ]
  },
  {
   "cell_type": "code",
   "execution_count": 7,
   "id": "ebe7ae6e-2d2f-48c8-918e-c60eeb2f6388",
   "metadata": {},
   "outputs": [],
   "source": [
    "# 7 Ans. An anomaly is basically something that’s unusual, doesn’t fit the usual pattern, or stands out because \n",
    "# it’s different in a specific category or situation. To explain it simply, let’s look at some clear examples:\n",
    "\n",
    "# Think about a collection of smartphones, mostly from Samsung, and then there’s an iPhone.\n",
    "# The iPhone is an anomaly because it’s a different brand.\n",
    "# Imagine you have a bunch of pens, but one of them is a fancy fountain pen instead of a regular ballpoint pen. \n",
    "# That fountain pen is an anomaly because it’s not like the others."
   ]
  },
  {
   "cell_type": "code",
   "execution_count": null,
   "id": "3a605393-17ac-47bc-b91d-8ac50f8422af",
   "metadata": {},
   "outputs": [],
   "source": [
    "# 8 Ans. The most commonly used Supervised Learning algorithms are decision tree, logistic regression, \n",
    "# linear regression, support vector machine. The most commonly used Unsupervised Learning algorithms are k-means clustering,\n",
    "# hierarchical clustering, and apriori algorithm"
   ]
  }
 ],
 "metadata": {
  "kernelspec": {
   "display_name": "Python 3 (ipykernel)",
   "language": "python",
   "name": "python3"
  },
  "language_info": {
   "codemirror_mode": {
    "name": "ipython",
    "version": 3
   },
   "file_extension": ".py",
   "mimetype": "text/x-python",
   "name": "python",
   "nbconvert_exporter": "python",
   "pygments_lexer": "ipython3",
   "version": "3.10.8"
  }
 },
 "nbformat": 4,
 "nbformat_minor": 5
}
